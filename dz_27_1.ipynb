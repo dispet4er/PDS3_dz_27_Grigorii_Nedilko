{
 "cells": [
  {
   "cell_type": "code",
   "execution_count": 1,
   "id": "0cdf37d6",
   "metadata": {},
   "outputs": [],
   "source": [
    "import math\n",
    "\n",
    "# параметри розподілу\n",
    "n = 10000\n",
    "p = 0.0007"
   ]
  },
  {
   "cell_type": "code",
   "execution_count": 2,
   "id": "8294941a",
   "metadata": {},
   "outputs": [
    {
     "name": "stdout",
     "output_type": "stream",
     "text": [
      "Математичне сподівання: 7.00\n"
     ]
    }
   ],
   "source": [
    "mu = n * p\n",
    "print(\"Математичне сподівання: {:.2f}\".format(mu))"
   ]
  },
  {
   "cell_type": "code",
   "execution_count": 3,
   "id": "7cf01373",
   "metadata": {},
   "outputs": [
    {
     "name": "stdout",
     "output_type": "stream",
     "text": [
      "Середнє квадратичне відхилення: 2.64\n"
     ]
    }
   ],
   "source": [
    "sigma = math.sqrt(n * p * (1 - p))\n",
    "print(\"Середнє квадратичне відхилення: {:.2f}\".format(sigma))"
   ]
  },
  {
   "cell_type": "code",
   "execution_count": null,
   "id": "abe476aa",
   "metadata": {},
   "outputs": [],
   "source": []
  }
 ],
 "metadata": {
  "kernelspec": {
   "display_name": "Python 3 (ipykernel)",
   "language": "python",
   "name": "python3"
  },
  "language_info": {
   "codemirror_mode": {
    "name": "ipython",
    "version": 3
   },
   "file_extension": ".py",
   "mimetype": "text/x-python",
   "name": "python",
   "nbconvert_exporter": "python",
   "pygments_lexer": "ipython3",
   "version": "3.10.8"
  }
 },
 "nbformat": 4,
 "nbformat_minor": 5
}
