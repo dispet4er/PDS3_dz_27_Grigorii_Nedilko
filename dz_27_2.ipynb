{
 "cells": [
  {
   "cell_type": "code",
   "execution_count": 1,
   "id": "197df69e",
   "metadata": {},
   "outputs": [],
   "source": [
    "import math\n",
    "\n",
    "p = 0.0001  # ймовірність того, що чоловік не був на рибалці\n",
    "n = 10000   # кількість чоловіків у вибірці"
   ]
  },
  {
   "cell_type": "code",
   "execution_count": 2,
   "id": "1129ddac",
   "metadata": {},
   "outputs": [],
   "source": [
    "mean = n * p\n",
    "variance = n * p * (1 - p)\n",
    "std_deviation = math.sqrt(variance)"
   ]
  },
  {
   "cell_type": "code",
   "execution_count": 3,
   "id": "93af64cd",
   "metadata": {},
   "outputs": [
    {
     "name": "stdout",
     "output_type": "stream",
     "text": [
      "Математичне сподівання: 1.0\n",
      "Дисперсія: 0.9999\n",
      "Середнє квадратичне відхилення: 0.9999499987499375\n"
     ]
    }
   ],
   "source": [
    "print(\"Математичне сподівання: {}\".format(mean))\n",
    "print(\"Дисперсія: {}\".format(variance))\n",
    "print(\"Середнє квадратичне відхилення: {}\".format(std_deviation))"
   ]
  },
  {
   "cell_type": "code",
   "execution_count": null,
   "id": "9d803598",
   "metadata": {},
   "outputs": [],
   "source": []
  }
 ],
 "metadata": {
  "kernelspec": {
   "display_name": "Python 3 (ipykernel)",
   "language": "python",
   "name": "python3"
  },
  "language_info": {
   "codemirror_mode": {
    "name": "ipython",
    "version": 3
   },
   "file_extension": ".py",
   "mimetype": "text/x-python",
   "name": "python",
   "nbconvert_exporter": "python",
   "pygments_lexer": "ipython3",
   "version": "3.10.8"
  }
 },
 "nbformat": 4,
 "nbformat_minor": 5
}
